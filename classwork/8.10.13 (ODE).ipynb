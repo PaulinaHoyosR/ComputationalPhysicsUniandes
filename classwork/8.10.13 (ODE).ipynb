{
 "metadata": {
  "name": "8.10.13 (ODE)"
 },
 "nbformat": 3,
 "nbformat_minor": 0,
 "worksheets": [
  {
   "cells": [
    {
     "cell_type": "code",
     "collapsed": false,
     "input": [
      "%pylab inline"
     ],
     "language": "python",
     "metadata": {},
     "outputs": [
      {
       "output_type": "stream",
       "stream": "stdout",
       "text": [
        "\n",
        "Welcome to pylab, a matplotlib-based Python environment [backend: module://IPython.zmq.pylab.backend_inline].\n",
        "For more information, type 'help(pylab)'.\n"
       ]
      }
     ],
     "prompt_number": 1
    },
    {
     "cell_type": "code",
     "collapsed": false,
     "input": [
      "h = 0.1\n",
      "x_initial = 0.0\n",
      "x_final = 1.0\n",
      "num_p = int((x_final-x_initial+h)/h)\n",
      "x = empty(num_p)\n",
      "y = empty(num_p)"
     ],
     "language": "python",
     "metadata": {},
     "outputs": [],
     "prompt_number": 2
    },
    {
     "cell_type": "code",
     "collapsed": false,
     "input": [
      "def func_prime(x,y):\n",
      "    return 1+y**2.0"
     ],
     "language": "python",
     "metadata": {},
     "outputs": [],
     "prompt_number": 4
    },
    {
     "cell_type": "code",
     "collapsed": false,
     "input": [
      "y[0] = 0\n",
      "\n",
      "for i in range(1,num_p):\n",
      "    \n",
      "    #Get k1\n",
      "    k1 = func_prime(x[i-1],y[i-1])\n",
      "    \n",
      "    #Get k2\n",
      "    x_2 = x[i-1] + 0.5*h\n",
      "    y_2 = y[i-1] + 0.5*h*k1\n",
      "    k2 = func_prime(x_2,y_2)\n",
      "    \n",
      "    #Get k3 \n",
      "    x_3 = x[i-1] + 0.5*h\n",
      "    y_3 = y[i-1] + 0.5*h*k2\n",
      "    k3 = func_prime(x_3,y_3)\n",
      "    \n",
      "    #Get k4\n",
      "    x_4 = x[i-1] + h\n",
      "    y_4 = y[i-1] + h*k3\n",
      "    k4 = func_prime(x_4,y_4)\n",
      "    \n",
      "    #Get average\n",
      "    k = (1.0/6.0)*(k1 + 2.0*k2 + 2.0*k3 + k4)\n",
      "    \n",
      "    #Now calculate new x and y\n",
      "    x[i] = x[i-1] + h\n",
      "    y[i] = y[i-1] + h*k"
     ],
     "language": "python",
     "metadata": {},
     "outputs": [],
     "prompt_number": 5
    },
    {
     "cell_type": "code",
     "collapsed": false,
     "input": [
      "plot(x,y, 'ko')\n",
      "plot(x,tan(x))\n",
      "plt.xlabel('x',size=28)\n",
      "plt.ylabel('tan(x)',size=28)"
     ],
     "language": "python",
     "metadata": {},
     "outputs": [
      {
       "output_type": "pyout",
       "prompt_number": 20,
       "text": [
        "<matplotlib.text.Text at 0xa7026ac>"
       ]
      },
      {
       "output_type": "display_data",
       "png": "[encoded data removed]"
      }
     ],
     "prompt_number": 20
    },
    {
     "cell_type": "code",
     "collapsed": false,
     "input": [
      "#calculate error\n",
      "\n",
      "mistake = empty(num_p)\n",
      "for i in range (1,num_p):\n",
      "    mistake[i]= tan(x[i])-y[i]\n",
      "    \n",
      "plot(x,mistake,'ko')\n",
      "    \n",
      "    \n",
      "    "
     ],
     "language": "python",
     "metadata": {},
     "outputs": [
      {
       "output_type": "pyout",
       "prompt_number": 21,
       "text": [
        "[<matplotlib.lines.Line2D at 0xa946c0c>]"
       ]
      },
      {
       "output_type": "display_data",
       "png": "[encoded data removed]"
      }
     ],
     "prompt_number": 21
    },
    {
     "cell_type": "code",
     "collapsed": false,
     "input": [],
     "language": "python",
     "metadata": {},
     "outputs": []
    }
   ],
   "metadata": {}
  }
 ]
}